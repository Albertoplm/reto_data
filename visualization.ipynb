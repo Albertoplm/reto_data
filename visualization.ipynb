{
 "cells": [
  {
   "cell_type": "code",
   "execution_count": 26,
   "metadata": {},
   "outputs": [],
   "source": [
    "import pandas as pd\n",
    "import seaborn as sns\n",
    "import matplotlib.pyplot as plt"
   ]
  },
  {
   "cell_type": "code",
   "execution_count": 3,
   "metadata": {},
   "outputs": [],
   "source": [
    "data = pd.read_csv(\"data/measurements_clean.csv\",encoding = \"ISO-8859-1\")"
   ]
  },
  {
   "cell_type": "code",
   "execution_count": 4,
   "metadata": {},
   "outputs": [
    {
     "data": {
      "text/html": [
       "<div>\n",
       "<style scoped>\n",
       "    .dataframe tbody tr th:only-of-type {\n",
       "        vertical-align: middle;\n",
       "    }\n",
       "\n",
       "    .dataframe tbody tr th {\n",
       "        vertical-align: top;\n",
       "    }\n",
       "\n",
       "    .dataframe thead th {\n",
       "        text-align: right;\n",
       "    }\n",
       "</style>\n",
       "<table border=\"1\" class=\"dataframe\">\n",
       "  <thead>\n",
       "    <tr style=\"text-align: right;\">\n",
       "      <th></th>\n",
       "      <th>distance</th>\n",
       "      <th>consume</th>\n",
       "      <th>speed</th>\n",
       "      <th>temp_outside</th>\n",
       "      <th>gas_type</th>\n",
       "      <th>ac</th>\n",
       "      <th>rain</th>\n",
       "      <th>sun</th>\n",
       "    </tr>\n",
       "  </thead>\n",
       "  <tbody>\n",
       "    <tr>\n",
       "      <th>0</th>\n",
       "      <td>28.0</td>\n",
       "      <td>5.0</td>\n",
       "      <td>26</td>\n",
       "      <td>12</td>\n",
       "      <td>E10</td>\n",
       "      <td>0</td>\n",
       "      <td>0</td>\n",
       "      <td>0</td>\n",
       "    </tr>\n",
       "    <tr>\n",
       "      <th>1</th>\n",
       "      <td>12.0</td>\n",
       "      <td>4.2</td>\n",
       "      <td>30</td>\n",
       "      <td>13</td>\n",
       "      <td>E10</td>\n",
       "      <td>0</td>\n",
       "      <td>0</td>\n",
       "      <td>0</td>\n",
       "    </tr>\n",
       "    <tr>\n",
       "      <th>2</th>\n",
       "      <td>11.2</td>\n",
       "      <td>5.5</td>\n",
       "      <td>38</td>\n",
       "      <td>15</td>\n",
       "      <td>E10</td>\n",
       "      <td>0</td>\n",
       "      <td>0</td>\n",
       "      <td>0</td>\n",
       "    </tr>\n",
       "    <tr>\n",
       "      <th>3</th>\n",
       "      <td>12.9</td>\n",
       "      <td>3.9</td>\n",
       "      <td>36</td>\n",
       "      <td>14</td>\n",
       "      <td>E10</td>\n",
       "      <td>0</td>\n",
       "      <td>0</td>\n",
       "      <td>0</td>\n",
       "    </tr>\n",
       "    <tr>\n",
       "      <th>4</th>\n",
       "      <td>18.5</td>\n",
       "      <td>4.5</td>\n",
       "      <td>46</td>\n",
       "      <td>15</td>\n",
       "      <td>E10</td>\n",
       "      <td>0</td>\n",
       "      <td>0</td>\n",
       "      <td>0</td>\n",
       "    </tr>\n",
       "    <tr>\n",
       "      <th>...</th>\n",
       "      <td>...</td>\n",
       "      <td>...</td>\n",
       "      <td>...</td>\n",
       "      <td>...</td>\n",
       "      <td>...</td>\n",
       "      <td>...</td>\n",
       "      <td>...</td>\n",
       "      <td>...</td>\n",
       "    </tr>\n",
       "    <tr>\n",
       "      <th>383</th>\n",
       "      <td>16.0</td>\n",
       "      <td>3.7</td>\n",
       "      <td>39</td>\n",
       "      <td>18</td>\n",
       "      <td>SP98</td>\n",
       "      <td>0</td>\n",
       "      <td>0</td>\n",
       "      <td>0</td>\n",
       "    </tr>\n",
       "    <tr>\n",
       "      <th>384</th>\n",
       "      <td>16.1</td>\n",
       "      <td>4.3</td>\n",
       "      <td>38</td>\n",
       "      <td>31</td>\n",
       "      <td>SP98</td>\n",
       "      <td>1</td>\n",
       "      <td>0</td>\n",
       "      <td>0</td>\n",
       "    </tr>\n",
       "    <tr>\n",
       "      <th>385</th>\n",
       "      <td>16.0</td>\n",
       "      <td>3.8</td>\n",
       "      <td>45</td>\n",
       "      <td>19</td>\n",
       "      <td>SP98</td>\n",
       "      <td>0</td>\n",
       "      <td>0</td>\n",
       "      <td>0</td>\n",
       "    </tr>\n",
       "    <tr>\n",
       "      <th>386</th>\n",
       "      <td>15.4</td>\n",
       "      <td>4.6</td>\n",
       "      <td>42</td>\n",
       "      <td>31</td>\n",
       "      <td>SP98</td>\n",
       "      <td>1</td>\n",
       "      <td>0</td>\n",
       "      <td>0</td>\n",
       "    </tr>\n",
       "    <tr>\n",
       "      <th>387</th>\n",
       "      <td>14.7</td>\n",
       "      <td>5.0</td>\n",
       "      <td>25</td>\n",
       "      <td>30</td>\n",
       "      <td>SP98</td>\n",
       "      <td>1</td>\n",
       "      <td>0</td>\n",
       "      <td>0</td>\n",
       "    </tr>\n",
       "  </tbody>\n",
       "</table>\n",
       "<p>388 rows × 8 columns</p>\n",
       "</div>"
      ],
      "text/plain": [
       "     distance  consume  speed  temp_outside gas_type  ac  rain  sun\n",
       "0        28.0      5.0     26            12      E10   0     0    0\n",
       "1        12.0      4.2     30            13      E10   0     0    0\n",
       "2        11.2      5.5     38            15      E10   0     0    0\n",
       "3        12.9      3.9     36            14      E10   0     0    0\n",
       "4        18.5      4.5     46            15      E10   0     0    0\n",
       "..        ...      ...    ...           ...      ...  ..   ...  ...\n",
       "383      16.0      3.7     39            18     SP98   0     0    0\n",
       "384      16.1      4.3     38            31     SP98   1     0    0\n",
       "385      16.0      3.8     45            19     SP98   0     0    0\n",
       "386      15.4      4.6     42            31     SP98   1     0    0\n",
       "387      14.7      5.0     25            30     SP98   1     0    0\n",
       "\n",
       "[388 rows x 8 columns]"
      ]
     },
     "execution_count": 4,
     "metadata": {},
     "output_type": "execute_result"
    }
   ],
   "source": [
    "data"
   ]
  },
  {
   "cell_type": "code",
   "execution_count": 5,
   "metadata": {},
   "outputs": [
    {
     "data": {
      "text/html": [
       "<div>\n",
       "<style scoped>\n",
       "    .dataframe tbody tr th:only-of-type {\n",
       "        vertical-align: middle;\n",
       "    }\n",
       "\n",
       "    .dataframe tbody tr th {\n",
       "        vertical-align: top;\n",
       "    }\n",
       "\n",
       "    .dataframe thead th {\n",
       "        text-align: right;\n",
       "    }\n",
       "</style>\n",
       "<table border=\"1\" class=\"dataframe\">\n",
       "  <thead>\n",
       "    <tr style=\"text-align: right;\">\n",
       "      <th></th>\n",
       "      <th>distance</th>\n",
       "      <th>consume</th>\n",
       "      <th>speed</th>\n",
       "      <th>temp_outside</th>\n",
       "      <th>ac</th>\n",
       "      <th>rain</th>\n",
       "      <th>sun</th>\n",
       "    </tr>\n",
       "  </thead>\n",
       "  <tbody>\n",
       "    <tr>\n",
       "      <th>distance</th>\n",
       "      <td>1.000000</td>\n",
       "      <td>-0.128967</td>\n",
       "      <td>0.562299</td>\n",
       "      <td>0.088175</td>\n",
       "      <td>-0.025738</td>\n",
       "      <td>-0.019791</td>\n",
       "      <td>0.081120</td>\n",
       "    </tr>\n",
       "    <tr>\n",
       "      <th>consume</th>\n",
       "      <td>-0.128967</td>\n",
       "      <td>1.000000</td>\n",
       "      <td>-0.227866</td>\n",
       "      <td>-0.320811</td>\n",
       "      <td>0.096591</td>\n",
       "      <td>0.248118</td>\n",
       "      <td>-0.170667</td>\n",
       "    </tr>\n",
       "    <tr>\n",
       "      <th>speed</th>\n",
       "      <td>0.562299</td>\n",
       "      <td>-0.227866</td>\n",
       "      <td>1.000000</td>\n",
       "      <td>0.015411</td>\n",
       "      <td>-0.035408</td>\n",
       "      <td>0.009489</td>\n",
       "      <td>0.081618</td>\n",
       "    </tr>\n",
       "    <tr>\n",
       "      <th>temp_outside</th>\n",
       "      <td>0.088175</td>\n",
       "      <td>-0.320811</td>\n",
       "      <td>0.015411</td>\n",
       "      <td>1.000000</td>\n",
       "      <td>0.167562</td>\n",
       "      <td>-0.186315</td>\n",
       "      <td>0.346903</td>\n",
       "    </tr>\n",
       "    <tr>\n",
       "      <th>ac</th>\n",
       "      <td>-0.025738</td>\n",
       "      <td>0.096591</td>\n",
       "      <td>-0.035408</td>\n",
       "      <td>0.167562</td>\n",
       "      <td>1.000000</td>\n",
       "      <td>0.242915</td>\n",
       "      <td>0.088598</td>\n",
       "    </tr>\n",
       "    <tr>\n",
       "      <th>rain</th>\n",
       "      <td>-0.019791</td>\n",
       "      <td>0.248118</td>\n",
       "      <td>0.009489</td>\n",
       "      <td>-0.186315</td>\n",
       "      <td>0.242915</td>\n",
       "      <td>1.000000</td>\n",
       "      <td>-0.112650</td>\n",
       "    </tr>\n",
       "    <tr>\n",
       "      <th>sun</th>\n",
       "      <td>0.081120</td>\n",
       "      <td>-0.170667</td>\n",
       "      <td>0.081618</td>\n",
       "      <td>0.346903</td>\n",
       "      <td>0.088598</td>\n",
       "      <td>-0.112650</td>\n",
       "      <td>1.000000</td>\n",
       "    </tr>\n",
       "  </tbody>\n",
       "</table>\n",
       "</div>"
      ],
      "text/plain": [
       "              distance   consume     speed  temp_outside        ac      rain  \\\n",
       "distance      1.000000 -0.128967  0.562299      0.088175 -0.025738 -0.019791   \n",
       "consume      -0.128967  1.000000 -0.227866     -0.320811  0.096591  0.248118   \n",
       "speed         0.562299 -0.227866  1.000000      0.015411 -0.035408  0.009489   \n",
       "temp_outside  0.088175 -0.320811  0.015411      1.000000  0.167562 -0.186315   \n",
       "ac           -0.025738  0.096591 -0.035408      0.167562  1.000000  0.242915   \n",
       "rain         -0.019791  0.248118  0.009489     -0.186315  0.242915  1.000000   \n",
       "sun           0.081120 -0.170667  0.081618      0.346903  0.088598 -0.112650   \n",
       "\n",
       "                   sun  \n",
       "distance      0.081120  \n",
       "consume      -0.170667  \n",
       "speed         0.081618  \n",
       "temp_outside  0.346903  \n",
       "ac            0.088598  \n",
       "rain         -0.112650  \n",
       "sun           1.000000  "
      ]
     },
     "execution_count": 5,
     "metadata": {},
     "output_type": "execute_result"
    }
   ],
   "source": [
    "data.corr()"
   ]
  },
  {
   "cell_type": "code",
   "execution_count": 12,
   "metadata": {},
   "outputs": [
    {
     "data": {
      "text/plain": [
       "distance        21.09625\n",
       "consume          4.93125\n",
       "speed           43.50625\n",
       "temp_outside    10.11875\n",
       "ac               0.04375\n",
       "rain             0.10000\n",
       "sun              0.07500\n",
       "dtype: float64"
      ]
     },
     "execution_count": 12,
     "metadata": {},
     "output_type": "execute_result"
    }
   ],
   "source": [
    "data[(data.gas_type == 'E10')].mean()"
   ]
  },
  {
   "cell_type": "code",
   "execution_count": 13,
   "metadata": {},
   "outputs": [
    {
     "data": {
      "text/plain": [
       "distance        18.639912\n",
       "consume          4.899123\n",
       "speed           40.820175\n",
       "temp_outside    12.228070\n",
       "ac               0.100877\n",
       "rain             0.140351\n",
       "sun              0.087719\n",
       "dtype: float64"
      ]
     },
     "execution_count": 13,
     "metadata": {},
     "output_type": "execute_result"
    }
   ],
   "source": [
    "data[(data.gas_type == 'SP98')].mean()"
   ]
  },
  {
   "cell_type": "markdown",
   "metadata": {},
   "source": [
    "#### De media tienen un consumo muy similar "
   ]
  },
  {
   "cell_type": "code",
   "execution_count": 14,
   "metadata": {},
   "outputs": [],
   "source": [
    "E10 = data[(data.gas_type == 'E10')]\n",
    "SP98 = data[(data.gas_type == 'SP98')]"
   ]
  },
  {
   "cell_type": "code",
   "execution_count": 97,
   "metadata": {},
   "outputs": [
    {
     "data": {
      "text/html": [
       "<div>\n",
       "<style scoped>\n",
       "    .dataframe tbody tr th:only-of-type {\n",
       "        vertical-align: middle;\n",
       "    }\n",
       "\n",
       "    .dataframe tbody tr th {\n",
       "        vertical-align: top;\n",
       "    }\n",
       "\n",
       "    .dataframe thead th {\n",
       "        text-align: right;\n",
       "    }\n",
       "</style>\n",
       "<table border=\"1\" class=\"dataframe\">\n",
       "  <thead>\n",
       "    <tr style=\"text-align: right;\">\n",
       "      <th></th>\n",
       "      <th>distance</th>\n",
       "      <th>consume</th>\n",
       "      <th>speed</th>\n",
       "      <th>temp_outside</th>\n",
       "      <th>ac</th>\n",
       "      <th>rain</th>\n",
       "      <th>sun</th>\n",
       "    </tr>\n",
       "  </thead>\n",
       "  <tbody>\n",
       "    <tr>\n",
       "      <th>distance</th>\n",
       "      <td>1.000000</td>\n",
       "      <td>-0.172572</td>\n",
       "      <td>0.633082</td>\n",
       "      <td>0.158903</td>\n",
       "      <td>0.045776</td>\n",
       "      <td>-0.073315</td>\n",
       "      <td>0.027364</td>\n",
       "    </tr>\n",
       "    <tr>\n",
       "      <th>consume</th>\n",
       "      <td>-0.172572</td>\n",
       "      <td>1.000000</td>\n",
       "      <td>-0.233318</td>\n",
       "      <td>-0.322918</td>\n",
       "      <td>0.043591</td>\n",
       "      <td>0.248199</td>\n",
       "      <td>-0.160503</td>\n",
       "    </tr>\n",
       "    <tr>\n",
       "      <th>speed</th>\n",
       "      <td>0.633082</td>\n",
       "      <td>-0.233318</td>\n",
       "      <td>1.000000</td>\n",
       "      <td>0.091093</td>\n",
       "      <td>0.125102</td>\n",
       "      <td>-0.001633</td>\n",
       "      <td>0.128376</td>\n",
       "    </tr>\n",
       "    <tr>\n",
       "      <th>temp_outside</th>\n",
       "      <td>0.158903</td>\n",
       "      <td>-0.322918</td>\n",
       "      <td>0.091093</td>\n",
       "      <td>1.000000</td>\n",
       "      <td>0.048762</td>\n",
       "      <td>-0.097756</td>\n",
       "      <td>0.236743</td>\n",
       "    </tr>\n",
       "    <tr>\n",
       "      <th>ac</th>\n",
       "      <td>0.045776</td>\n",
       "      <td>0.043591</td>\n",
       "      <td>0.125102</td>\n",
       "      <td>0.048762</td>\n",
       "      <td>1.000000</td>\n",
       "      <td>0.336123</td>\n",
       "      <td>0.171118</td>\n",
       "    </tr>\n",
       "    <tr>\n",
       "      <th>rain</th>\n",
       "      <td>-0.073315</td>\n",
       "      <td>0.248199</td>\n",
       "      <td>-0.001633</td>\n",
       "      <td>-0.097756</td>\n",
       "      <td>0.336123</td>\n",
       "      <td>1.000000</td>\n",
       "      <td>-0.094916</td>\n",
       "    </tr>\n",
       "    <tr>\n",
       "      <th>sun</th>\n",
       "      <td>0.027364</td>\n",
       "      <td>-0.160503</td>\n",
       "      <td>0.128376</td>\n",
       "      <td>0.236743</td>\n",
       "      <td>0.171118</td>\n",
       "      <td>-0.094916</td>\n",
       "      <td>1.000000</td>\n",
       "    </tr>\n",
       "  </tbody>\n",
       "</table>\n",
       "</div>"
      ],
      "text/plain": [
       "              distance   consume     speed  temp_outside        ac      rain  \\\n",
       "distance      1.000000 -0.172572  0.633082      0.158903  0.045776 -0.073315   \n",
       "consume      -0.172572  1.000000 -0.233318     -0.322918  0.043591  0.248199   \n",
       "speed         0.633082 -0.233318  1.000000      0.091093  0.125102 -0.001633   \n",
       "temp_outside  0.158903 -0.322918  0.091093      1.000000  0.048762 -0.097756   \n",
       "ac            0.045776  0.043591  0.125102      0.048762  1.000000  0.336123   \n",
       "rain         -0.073315  0.248199 -0.001633     -0.097756  0.336123  1.000000   \n",
       "sun           0.027364 -0.160503  0.128376      0.236743  0.171118 -0.094916   \n",
       "\n",
       "                   sun  \n",
       "distance      0.027364  \n",
       "consume      -0.160503  \n",
       "speed         0.128376  \n",
       "temp_outside  0.236743  \n",
       "ac            0.171118  \n",
       "rain         -0.094916  \n",
       "sun           1.000000  "
      ]
     },
     "execution_count": 97,
     "metadata": {},
     "output_type": "execute_result"
    }
   ],
   "source": [
    "E10.corr()"
   ]
  },
  {
   "cell_type": "code",
   "execution_count": 98,
   "metadata": {},
   "outputs": [
    {
     "data": {
      "text/html": [
       "<div>\n",
       "<style scoped>\n",
       "    .dataframe tbody tr th:only-of-type {\n",
       "        vertical-align: middle;\n",
       "    }\n",
       "\n",
       "    .dataframe tbody tr th {\n",
       "        vertical-align: top;\n",
       "    }\n",
       "\n",
       "    .dataframe thead th {\n",
       "        text-align: right;\n",
       "    }\n",
       "</style>\n",
       "<table border=\"1\" class=\"dataframe\">\n",
       "  <thead>\n",
       "    <tr style=\"text-align: right;\">\n",
       "      <th></th>\n",
       "      <th>distance</th>\n",
       "      <th>consume</th>\n",
       "      <th>speed</th>\n",
       "      <th>temp_outside</th>\n",
       "      <th>ac</th>\n",
       "      <th>rain</th>\n",
       "      <th>sun</th>\n",
       "    </tr>\n",
       "  </thead>\n",
       "  <tbody>\n",
       "    <tr>\n",
       "      <th>distance</th>\n",
       "      <td>1.000000</td>\n",
       "      <td>-0.109841</td>\n",
       "      <td>0.521258</td>\n",
       "      <td>0.065534</td>\n",
       "      <td>-0.046792</td>\n",
       "      <td>0.012206</td>\n",
       "      <td>0.112846</td>\n",
       "    </tr>\n",
       "    <tr>\n",
       "      <th>consume</th>\n",
       "      <td>-0.109841</td>\n",
       "      <td>1.000000</td>\n",
       "      <td>-0.232245</td>\n",
       "      <td>-0.322177</td>\n",
       "      <td>0.120324</td>\n",
       "      <td>0.250377</td>\n",
       "      <td>-0.176202</td>\n",
       "    </tr>\n",
       "    <tr>\n",
       "      <th>speed</th>\n",
       "      <td>0.521258</td>\n",
       "      <td>-0.232245</td>\n",
       "      <td>1.000000</td>\n",
       "      <td>-0.009368</td>\n",
       "      <td>-0.102913</td>\n",
       "      <td>0.026668</td>\n",
       "      <td>0.053796</td>\n",
       "    </tr>\n",
       "    <tr>\n",
       "      <th>temp_outside</th>\n",
       "      <td>0.065534</td>\n",
       "      <td>-0.322177</td>\n",
       "      <td>-0.009368</td>\n",
       "      <td>1.000000</td>\n",
       "      <td>0.200230</td>\n",
       "      <td>-0.251129</td>\n",
       "      <td>0.411229</td>\n",
       "    </tr>\n",
       "    <tr>\n",
       "      <th>ac</th>\n",
       "      <td>-0.046792</td>\n",
       "      <td>0.120324</td>\n",
       "      <td>-0.102913</td>\n",
       "      <td>0.200230</td>\n",
       "      <td>1.000000</td>\n",
       "      <td>0.200071</td>\n",
       "      <td>0.050578</td>\n",
       "    </tr>\n",
       "    <tr>\n",
       "      <th>rain</th>\n",
       "      <td>0.012206</td>\n",
       "      <td>0.250377</td>\n",
       "      <td>0.026668</td>\n",
       "      <td>-0.251129</td>\n",
       "      <td>0.200071</td>\n",
       "      <td>1.000000</td>\n",
       "      <td>-0.125294</td>\n",
       "    </tr>\n",
       "    <tr>\n",
       "      <th>sun</th>\n",
       "      <td>0.112846</td>\n",
       "      <td>-0.176202</td>\n",
       "      <td>0.053796</td>\n",
       "      <td>0.411229</td>\n",
       "      <td>0.050578</td>\n",
       "      <td>-0.125294</td>\n",
       "      <td>1.000000</td>\n",
       "    </tr>\n",
       "  </tbody>\n",
       "</table>\n",
       "</div>"
      ],
      "text/plain": [
       "              distance   consume     speed  temp_outside        ac      rain  \\\n",
       "distance      1.000000 -0.109841  0.521258      0.065534 -0.046792  0.012206   \n",
       "consume      -0.109841  1.000000 -0.232245     -0.322177  0.120324  0.250377   \n",
       "speed         0.521258 -0.232245  1.000000     -0.009368 -0.102913  0.026668   \n",
       "temp_outside  0.065534 -0.322177 -0.009368      1.000000  0.200230 -0.251129   \n",
       "ac           -0.046792  0.120324 -0.102913      0.200230  1.000000  0.200071   \n",
       "rain          0.012206  0.250377  0.026668     -0.251129  0.200071  1.000000   \n",
       "sun           0.112846 -0.176202  0.053796      0.411229  0.050578 -0.125294   \n",
       "\n",
       "                   sun  \n",
       "distance      0.112846  \n",
       "consume      -0.176202  \n",
       "speed         0.053796  \n",
       "temp_outside  0.411229  \n",
       "ac            0.050578  \n",
       "rain         -0.125294  \n",
       "sun           1.000000  "
      ]
     },
     "execution_count": 98,
     "metadata": {},
     "output_type": "execute_result"
    }
   ],
   "source": [
    "SP98.corr()"
   ]
  },
  {
   "cell_type": "code",
   "execution_count": 94,
   "metadata": {},
   "outputs": [
    {
     "data": {
      "text/plain": [
       "0    153\n",
       "1      7\n",
       "Name: ac, dtype: int64"
      ]
     },
     "execution_count": 94,
     "metadata": {},
     "output_type": "execute_result"
    }
   ],
   "source": [
    "E10.ac.value_counts()"
   ]
  },
  {
   "cell_type": "code",
   "execution_count": 151,
   "metadata": {},
   "outputs": [
    {
     "data": {
      "text/plain": [
       "distance        25.608571\n",
       "consume          4.535714\n",
       "speed           46.114286\n",
       "temp_outside    10.514286\n",
       "ac               0.000000\n",
       "rain             0.042857\n",
       "sun              0.085714\n",
       "dtype: float64"
      ]
     },
     "execution_count": 151,
     "metadata": {},
     "output_type": "execute_result"
    }
   ],
   "source": [
    "E10[(E10.ac == 0) & (E10.consume > 4) & (E10.consume < 5)].mean()"
   ]
  },
  {
   "cell_type": "code",
   "execution_count": 152,
   "metadata": {},
   "outputs": [
    {
     "data": {
      "text/plain": [
       "distance        20.804211\n",
       "consume          4.480000\n",
       "speed           43.094737\n",
       "temp_outside    12.694737\n",
       "ac               0.000000\n",
       "rain             0.094737\n",
       "sun              0.063158\n",
       "dtype: float64"
      ]
     },
     "execution_count": 152,
     "metadata": {},
     "output_type": "execute_result"
    }
   ],
   "source": [
    "SP98[(SP98.ac == 0)& (SP98.consume > 4) & (SP98.consume < 5)].mean()"
   ]
  },
  {
   "cell_type": "code",
   "execution_count": 155,
   "metadata": {},
   "outputs": [
    {
     "data": {
      "text/plain": [
       "distance        16.52\n",
       "consume          4.41\n",
       "speed           41.80\n",
       "temp_outside    17.30\n",
       "ac               1.00\n",
       "rain             0.10\n",
       "sun              0.20\n",
       "dtype: float64"
      ]
     },
     "execution_count": 155,
     "metadata": {},
     "output_type": "execute_result"
    }
   ],
   "source": [
    "SP98[(SP98.ac == 1)& (SP98.consume > 4) & (SP98.consume < 5)].mean()"
   ]
  },
  {
   "cell_type": "markdown",
   "metadata": {},
   "source": [
    "#### Viendo que cuando usamos el tipo E10 practicamente no se puso el AC hago la comparación sin AC. Podemos observar que con un consumo similar con E10 se pudo arecorrer más distance y a más velocidad. Podriamos suponer que pudo ir en marchas más largas de media rebajando el consumo."
   ]
  },
  {
   "cell_type": "code",
   "execution_count": 188,
   "metadata": {},
   "outputs": [
    {
     "name": "stdout",
     "output_type": "stream",
     "text": [
      "(26, 8)\n"
     ]
    },
    {
     "data": {
      "text/plain": [
       "distance        11.269231\n",
       "consume          5.634615\n",
       "speed           25.038462\n",
       "temp_outside    10.269231\n",
       "ac               0.000000\n",
       "rain             0.115385\n",
       "sun              0.038462\n",
       "dtype: float64"
      ]
     },
     "execution_count": 188,
     "metadata": {},
     "output_type": "execute_result"
    }
   ],
   "source": [
    "print(E10[(E10.ac == 0) & (E10.speed > 5) & (E10.speed < 30)].shape)\n",
    "E10[(E10.ac == 0) & (E10.speed > 5) & (E10.speed < 30)].mean()"
   ]
  },
  {
   "cell_type": "code",
   "execution_count": 189,
   "metadata": {},
   "outputs": [
    {
     "name": "stdout",
     "output_type": "stream",
     "text": [
      "(42, 8)\n"
     ]
    },
    {
     "data": {
      "text/plain": [
       "distance        11.564286\n",
       "consume          5.640476\n",
       "speed           24.976190\n",
       "temp_outside    10.714286\n",
       "ac               0.000000\n",
       "rain             0.095238\n",
       "sun              0.095238\n",
       "dtype: float64"
      ]
     },
     "execution_count": 189,
     "metadata": {},
     "output_type": "execute_result"
    }
   ],
   "source": [
    "print(SP98[(SP98.ac == 0) & (SP98.speed > 5) & (SP98.speed < 30)].shape)\n",
    "SP98[(SP98.ac == 0) & (SP98.speed > 5) & (SP98.speed < 30)].mean()"
   ]
  },
  {
   "cell_type": "markdown",
   "metadata": {},
   "source": [
    "#### Vemos que a una velocidad entre 5 y 30 con una media entorno a 25 el consumo y la distancia recorrida son practicamente las mismas"
   ]
  },
  {
   "cell_type": "code",
   "execution_count": 199,
   "metadata": {},
   "outputs": [
    {
     "name": "stdout",
     "output_type": "stream",
     "text": [
      "(38, 8)\n"
     ]
    },
    {
     "data": {
      "text/plain": [
       "distance        37.200000\n",
       "consume          4.923684\n",
       "speed           61.657895\n",
       "temp_outside    10.447368\n",
       "ac               0.000000\n",
       "rain             0.105263\n",
       "sun              0.105263\n",
       "dtype: float64"
      ]
     },
     "execution_count": 199,
     "metadata": {},
     "output_type": "execute_result"
    }
   ],
   "source": [
    "print(E10[(E10.ac == 0) & (E10.speed > 50) & (E10.speed < 100)].shape)\n",
    "E10[(E10.ac == 0) & (E10.speed > 50) & (E10.speed < 100)].mean()"
   ]
  },
  {
   "cell_type": "code",
   "execution_count": 201,
   "metadata": {},
   "outputs": [
    {
     "name": "stdout",
     "output_type": "stream",
     "text": [
      "(50, 8)\n"
     ]
    },
    {
     "data": {
      "text/plain": [
       "distance        32.638\n",
       "consume          4.910\n",
       "speed           59.260\n",
       "temp_outside    11.180\n",
       "ac               0.000\n",
       "rain             0.180\n",
       "sun              0.080\n",
       "dtype: float64"
      ]
     },
     "execution_count": 201,
     "metadata": {},
     "output_type": "execute_result"
    }
   ],
   "source": [
    "print(SP98[(SP98.ac == 0) & (SP98.speed > 50) & (SP98.speed < 100)].shape)\n",
    "SP98[(SP98.ac == 0) & (SP98.speed > 50) & (SP98.speed < 100)].mean()"
   ]
  },
  {
   "cell_type": "markdown",
   "metadata": {},
   "source": [
    "#### Vemos que a una velocidad entre 50 y 100 con una media entorno a 60 el consumo es el mismo pero con E10 somos capaces de hacer un recorrido más largo"
   ]
  },
  {
   "cell_type": "markdown",
   "metadata": {},
   "source": [
    "#### Sabiendo que E10 es un combustible más barato y voy a poder recorrer más distancia con el a velocidades altas y practicamente la misma a velocidades bajas, en este punto del analisis sin ninguna duda me decantaría por este combustible"
   ]
  },
  {
   "cell_type": "code",
   "execution_count": 202,
   "metadata": {},
   "outputs": [
    {
     "data": {
      "text/plain": [
       "<matplotlib.lines.Line2D at 0x28b0c2eb1c0>"
      ]
     },
     "execution_count": 202,
     "metadata": {},
     "output_type": "execute_result"
    },
    {
     "data": {
      "image/png": "[encoded data removed]",
      "text/plain": [
       "<Figure size 1080x1080 with 3 Axes>"
      ]
     },
     "metadata": {
      "needs_background": "light"
     },
     "output_type": "display_data"
    }
   ],
   "source": [
    "fig, axs = plt.subplots(nrows=3, ncols=1, figsize=(15, 15))\n",
    "\n",
    "plot = sns.kdeplot(x=data.consume[(data.ac == 0)], hue=data.gas_type, ax=axs[0])\n",
    "plot.axvline(x=E10[(E10.ac == 0)].consume.mean(), c=\"blue\", label=\"mean E10\")\n",
    "plot.axvline(x=SP98[(SP98.ac == 0)].consume.mean(), c=\"orange\", label=\"mean SP98\")\n",
    "\n",
    "\n",
    "plot1 = sns.kdeplot(x=data.distance[(data.ac == 0)], hue=data.gas_type, ax=axs[1])\n",
    "plot1.axvline(x=E10[(E10.ac == 0)].distance.mean(), c=\"blue\", label=\"mean E10\")\n",
    "plot1.axvline(x=SP98[(SP98.ac == 0)].distance.mean(), c=\"orange\", label=\"mean SP98\")\n",
    "\n",
    "plot2 = sns.kdeplot(x=data.speed[(data.ac == 0)], hue=data.gas_type, ax=axs[2])\n",
    "plot2.axvline(x=E10[(E10.ac == 0)].speed.mean(), c=\"blue\", label=\"mean E10\")\n",
    "plot2.axvline(x=SP98[(SP98.ac == 0)].speed.mean(), c=\"orange\", label=\"mean SP98\")\n"
   ]
  },
  {
   "cell_type": "code",
   "execution_count": null,
   "metadata": {},
   "outputs": [],
   "source": []
  }
 ],
 "metadata": {
  "kernelspec": {
   "display_name": "Python 3",
   "language": "python",
   "name": "python3"
  },
  "language_info": {
   "codemirror_mode": {
    "name": "ipython",
    "version": 3
   },
   "file_extension": ".py",
   "mimetype": "text/x-python",
   "name": "python",
   "nbconvert_exporter": "python",
   "pygments_lexer": "ipython3",
   "version": "3.8.5"
  }
 },
 "nbformat": 4,
 "nbformat_minor": 4
}

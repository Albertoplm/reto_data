{
 "cells": [
  {
   "cell_type": "code",
   "execution_count": 13,
   "metadata": {},
   "outputs": [],
   "source": [
    "import requests\n",
    "from bs4 import BeautifulSoup\n",
    "import pandas as pd\n",
    "import datetime\n",
    "import re\n",
    "import os\n",
    "import kaggle\n",
    "\n",
    "def download_dataset(urls):\n",
    "        '''Downloads a dataset from kaggle and only keeps the csv in your data file. Beware of your own data structure:\n",
    "        this creates a data directory and also moves all the .csv files next to your jupyter notebooks to it.\n",
    "        Takes: url from kaggle\n",
    "        Returns: a folder with the downloaded and unzipped csv\n",
    "        '''\n",
    "\n",
    "        #Gets the name of the dataset.zip\n",
    "        url = urls\n",
    "\n",
    "        #Gets the name of the dataset.zip\n",
    "        endopint = url.split(\"/\")[-1]\n",
    "        user = url.split(\"/\")[-2]\n",
    "\n",
    "        #Download, decompress and leaves only the csv\n",
    "        download = f\"kaggle datasets download -d {user}/{endopint}\"\n",
    "        decompress = f\"tar -xzvf {endopint}.zip\"\n",
    "        delete = f\"del {endopint}.zip\"\n",
    "\n",
    "        for i in [download, decompress, delete]:\n",
    "            os.system(i)\n",
    "\n",
    "        #Move the csv to uour data folder\n",
    "        move_and_delete = \"move measurements.csv data/\"\n",
    "        delete_xlsx = 'del *.xlsx'\n",
    "        os.system(delete_xlsx)\n",
    "        print('Database downloaded')\n",
    "        return os.system(move_and_delete)"
   ]
  },
  {
   "cell_type": "code",
   "execution_count": 14,
   "metadata": {},
   "outputs": [
    {
     "name": "stdout",
     "output_type": "stream",
     "text": [
      "Database downloaded\n"
     ]
    },
    {
     "data": {
      "text/plain": [
       "0"
      ]
     },
     "execution_count": 14,
     "metadata": {},
     "output_type": "execute_result"
    }
   ],
   "source": [
    "download_dataset('https://www.kaggle.com/anderas/car-consume')"
   ]
  },
  {
   "cell_type": "code",
   "execution_count": null,
   "metadata": {},
   "outputs": [],
   "source": []
  }
 ],
 "metadata": {
  "kernelspec": {
   "display_name": "Python 3",
   "language": "python",
   "name": "python3"
  },
  "language_info": {
   "codemirror_mode": {
    "name": "ipython",
    "version": 3
   },
   "file_extension": ".py",
   "mimetype": "text/x-python",
   "name": "python",
   "nbconvert_exporter": "python",
   "pygments_lexer": "ipython3",
   "version": "3.8.5"
  }
 },
 "nbformat": 4,
 "nbformat_minor": 4
}
